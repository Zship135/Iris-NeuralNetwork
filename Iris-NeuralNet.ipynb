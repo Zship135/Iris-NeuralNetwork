{
 "cells": [
  {
   "cell_type": "code",
   "execution_count": 2,
   "id": "3f088fcc-2564-4b10-adee-4c250bf3f8f5",
   "metadata": {},
   "outputs": [],
   "source": [
    "import torch\n",
    "import torch.nn as nn\n",
    "import torch.nn.functional as F"
   ]
  },
  {
   "cell_type": "code",
   "execution_count": 5,
   "id": "915042f2",
   "metadata": {},
   "outputs": [],
   "source": [
    "class Model(nn.Module):\n",
    "    # Input layer has 4 features of the flowers -> Hidden layer 1 --> Hidden layer 2 -> Output (3 classes of flower)\n",
    "\n",
    "    def __init__(self, input_features=4, h1=8, h2=8, output_features=3):\n",
    "        super().__init__()\n",
    "        self.fc1 = nn.Linear(input_features, h1)\n",
    "        self.fc2 = nn.Linear(h1, h2)\n",
    "        self.out = nn.Linear(h2, output_features)\n",
    "\n",
    "    def forward(self, x):\n",
    "        x = F.relu(self.fc1(x))\n",
    "        x = F.relu(self.fc2(x))\n",
    "        x = self.out(x)\n",
    "        return x"
   ]
  },
  {
   "cell_type": "code",
   "execution_count": null,
   "id": "44ffd406-f6f3-422f-9a48-3272e9a440b3",
   "metadata": {},
   "outputs": [],
   "source": [
    "\n",
    "# Create Model\n",
    "model = Model()"
   ]
  },
  {
   "cell_type": "code",
   "execution_count": 7,
   "id": "03530a6d",
   "metadata": {},
   "outputs": [],
   "source": [
    "import pandas as pd\n",
    "import matplotlib.pyplot as plt\n",
    "%matplotlib inline"
   ]
  },
  {
   "cell_type": "code",
   "execution_count": null,
   "id": "422abf4f",
   "metadata": {},
   "outputs": [
    {
     "data": {
      "text/html": [
       "<div>\n",
       "<style scoped>\n",
       "    .dataframe tbody tr th:only-of-type {\n",
       "        vertical-align: middle;\n",
       "    }\n",
       "\n",
       "    .dataframe tbody tr th {\n",
       "        vertical-align: top;\n",
       "    }\n",
       "\n",
       "    .dataframe thead th {\n",
       "        text-align: right;\n",
       "    }\n",
       "</style>\n",
       "<table border=\"1\" class=\"dataframe\">\n",
       "  <thead>\n",
       "    <tr style=\"text-align: right;\">\n",
       "      <th></th>\n",
       "      <th>sepal_length</th>\n",
       "      <th>sepal_width</th>\n",
       "      <th>petal_length</th>\n",
       "      <th>petal_width</th>\n",
       "      <th>species</th>\n",
       "    </tr>\n",
       "  </thead>\n",
       "  <tbody>\n",
       "    <tr>\n",
       "      <th>0</th>\n",
       "      <td>5.1</td>\n",
       "      <td>3.5</td>\n",
       "      <td>1.4</td>\n",
       "      <td>0.2</td>\n",
       "      <td>setosa</td>\n",
       "    </tr>\n",
       "    <tr>\n",
       "      <th>1</th>\n",
       "      <td>4.9</td>\n",
       "      <td>3.0</td>\n",
       "      <td>1.4</td>\n",
       "      <td>0.2</td>\n",
       "      <td>setosa</td>\n",
       "    </tr>\n",
       "    <tr>\n",
       "      <th>2</th>\n",
       "      <td>4.7</td>\n",
       "      <td>3.2</td>\n",
       "      <td>1.3</td>\n",
       "      <td>0.2</td>\n",
       "      <td>setosa</td>\n",
       "    </tr>\n",
       "    <tr>\n",
       "      <th>3</th>\n",
       "      <td>4.6</td>\n",
       "      <td>3.1</td>\n",
       "      <td>1.5</td>\n",
       "      <td>0.2</td>\n",
       "      <td>setosa</td>\n",
       "    </tr>\n",
       "    <tr>\n",
       "      <th>4</th>\n",
       "      <td>5.0</td>\n",
       "      <td>3.6</td>\n",
       "      <td>1.4</td>\n",
       "      <td>0.2</td>\n",
       "      <td>setosa</td>\n",
       "    </tr>\n",
       "  </tbody>\n",
       "</table>\n",
       "</div>"
      ],
      "text/plain": [
       "   sepal_length  sepal_width  petal_length  petal_width species\n",
       "0           5.1          3.5           1.4          0.2  setosa\n",
       "1           4.9          3.0           1.4          0.2  setosa\n",
       "2           4.7          3.2           1.3          0.2  setosa\n",
       "3           4.6          3.1           1.5          0.2  setosa\n",
       "4           5.0          3.6           1.4          0.2  setosa"
      ]
     },
     "execution_count": 10,
     "metadata": {},
     "output_type": "execute_result"
    }
   ],
   "source": [
    "url = 'https://gist.githubusercontent.com/curran/a08a1080b88344b0c8a7/raw/0e7a9b0a5d22642a06d3d5b9bcbad9890c8ee534/iris.csv'\n",
    "my_df = pd.read_csv(url)\n",
    "my_df.head()"
   ]
  },
  {
   "cell_type": "code",
   "execution_count": 11,
   "id": "dcabb6b8",
   "metadata": {},
   "outputs": [
    {
     "name": "stderr",
     "output_type": "stream",
     "text": [
      "C:\\Users\\zship\\AppData\\Local\\Temp\\ipykernel_21012\\1049013819.py:3: FutureWarning: Downcasting behavior in `replace` is deprecated and will be removed in a future version. To retain the old behavior, explicitly call `result.infer_objects(copy=False)`. To opt-in to the future behavior, set `pd.set_option('future.no_silent_downcasting', True)`\n",
      "  my_df['species'] = my_df['species'].replace('virginica', 2.0)\n"
     ]
    },
    {
     "data": {
      "text/html": [
       "<div>\n",
       "<style scoped>\n",
       "    .dataframe tbody tr th:only-of-type {\n",
       "        vertical-align: middle;\n",
       "    }\n",
       "\n",
       "    .dataframe tbody tr th {\n",
       "        vertical-align: top;\n",
       "    }\n",
       "\n",
       "    .dataframe thead th {\n",
       "        text-align: right;\n",
       "    }\n",
       "</style>\n",
       "<table border=\"1\" class=\"dataframe\">\n",
       "  <thead>\n",
       "    <tr style=\"text-align: right;\">\n",
       "      <th></th>\n",
       "      <th>sepal_length</th>\n",
       "      <th>sepal_width</th>\n",
       "      <th>petal_length</th>\n",
       "      <th>petal_width</th>\n",
       "      <th>species</th>\n",
       "    </tr>\n",
       "  </thead>\n",
       "  <tbody>\n",
       "    <tr>\n",
       "      <th>0</th>\n",
       "      <td>5.1</td>\n",
       "      <td>3.5</td>\n",
       "      <td>1.4</td>\n",
       "      <td>0.2</td>\n",
       "      <td>0.0</td>\n",
       "    </tr>\n",
       "    <tr>\n",
       "      <th>1</th>\n",
       "      <td>4.9</td>\n",
       "      <td>3.0</td>\n",
       "      <td>1.4</td>\n",
       "      <td>0.2</td>\n",
       "      <td>0.0</td>\n",
       "    </tr>\n",
       "    <tr>\n",
       "      <th>2</th>\n",
       "      <td>4.7</td>\n",
       "      <td>3.2</td>\n",
       "      <td>1.3</td>\n",
       "      <td>0.2</td>\n",
       "      <td>0.0</td>\n",
       "    </tr>\n",
       "    <tr>\n",
       "      <th>3</th>\n",
       "      <td>4.6</td>\n",
       "      <td>3.1</td>\n",
       "      <td>1.5</td>\n",
       "      <td>0.2</td>\n",
       "      <td>0.0</td>\n",
       "    </tr>\n",
       "    <tr>\n",
       "      <th>4</th>\n",
       "      <td>5.0</td>\n",
       "      <td>3.6</td>\n",
       "      <td>1.4</td>\n",
       "      <td>0.2</td>\n",
       "      <td>0.0</td>\n",
       "    </tr>\n",
       "  </tbody>\n",
       "</table>\n",
       "</div>"
      ],
      "text/plain": [
       "   sepal_length  sepal_width  petal_length  petal_width  species\n",
       "0           5.1          3.5           1.4          0.2      0.0\n",
       "1           4.9          3.0           1.4          0.2      0.0\n",
       "2           4.7          3.2           1.3          0.2      0.0\n",
       "3           4.6          3.1           1.5          0.2      0.0\n",
       "4           5.0          3.6           1.4          0.2      0.0"
      ]
     },
     "execution_count": 11,
     "metadata": {},
     "output_type": "execute_result"
    }
   ],
   "source": [
    "my_df['species'] = my_df['species'].replace('setosa', 0.0)\n",
    "my_df['species'] = my_df['species'].replace('versicolor', 1.0)\n",
    "my_df['species'] = my_df['species'].replace('virginica', 2.0)\n",
    "my_df.head()"
   ]
  },
  {
   "cell_type": "code",
   "execution_count": 12,
   "id": "3f2af7df",
   "metadata": {},
   "outputs": [],
   "source": [
    "# Train test split. X is features, y is outcome (species)\n",
    "X = my_df.drop('species', axis=1)\n",
    "y = my_df['species']"
   ]
  },
  {
   "cell_type": "code",
   "execution_count": 13,
   "id": "0fc8876d",
   "metadata": {},
   "outputs": [],
   "source": [
    "X = X.values\n",
    "y = y.values"
   ]
  },
  {
   "cell_type": "code",
   "execution_count": 14,
   "id": "92359ea5",
   "metadata": {},
   "outputs": [],
   "source": [
    "from sklearn.model_selection import train_test_split"
   ]
  },
  {
   "cell_type": "code",
   "execution_count": 15,
   "id": "c1ab9166",
   "metadata": {},
   "outputs": [],
   "source": [
    "# Split\n",
    "X_train, X_test, y_train, y_test = train_test_split(X, y, test_size=0.2)"
   ]
  },
  {
   "cell_type": "code",
   "execution_count": 16,
   "id": "92f7d375",
   "metadata": {},
   "outputs": [],
   "source": [
    "\n",
    "X_train = torch.FloatTensor(X_train)\n",
    "X_test = torch.FloatTensor(X_test)\n",
    "\n",
    "y_train = torch.LongTensor(y_train)\n",
    "y_test = torch.LongTensor(y_test)"
   ]
  },
  {
   "cell_type": "code",
   "execution_count": 18,
   "id": "bd29d4cc",
   "metadata": {},
   "outputs": [],
   "source": [
    "# Measure error\n",
    "criterion = nn.CrossEntropyLoss()\n",
    "# Adam optimizer and learning rate\n",
    "optimizer = torch.torch.optim.Adam(model.parameters(), lr=0.01)\n"
   ]
  },
  {
   "cell_type": "code",
   "execution_count": 19,
   "id": "67362d30",
   "metadata": {},
   "outputs": [
    {
     "name": "stdout",
     "output_type": "stream",
     "text": [
      "Epoch 0: loss: 1.1290984153747559\n",
      "Epoch 10: loss: 0.9667229056358337\n",
      "Epoch 20: loss: 0.6805912852287292\n",
      "Epoch 30: loss: 0.40788745880126953\n",
      "Epoch 40: loss: 0.24625691771507263\n",
      "Epoch 50: loss: 0.14273571968078613\n",
      "Epoch 60: loss: 0.09316318482160568\n",
      "Epoch 70: loss: 0.07268240302801132\n",
      "Epoch 80: loss: 0.06369306892156601\n",
      "Epoch 90: loss: 0.059077318757772446\n"
     ]
    }
   ],
   "source": [
    "# Train the model\n",
    "epochs = 100\n",
    "losses = []\n",
    "for i in range(epochs):\n",
    "    # move forward and predict\n",
    "    y_pred = model.forward(X_train)\n",
    "\n",
    "    # measure loss\n",
    "    loss = criterion(y_pred, y_train) # prediciton vs training data\n",
    "    losses.append(loss.detach().numpy())\n",
    "\n",
    "    if i % 10 == 0:\n",
    "        print(f\"Epoch {i}: loss: {loss}\")\n",
    "\n",
    "    # back propogation\n",
    "    optimizer.zero_grad()\n",
    "    loss.backward()\n",
    "    optimizer.step()\n"
   ]
  },
  {
   "cell_type": "code",
   "execution_count": 20,
   "id": "e319912e",
   "metadata": {},
   "outputs": [
    {
     "data": {
      "text/plain": [
       "Text(0.5, 0, 'Epochs')"
      ]
     },
     "execution_count": 20,
     "metadata": {},
     "output_type": "execute_result"
    },
    {
     "data": {
      "image/png": "[encoded data removed]",
      "text/plain": [
       "<Figure size 640x480 with 1 Axes>"
      ]
     },
     "metadata": {},
     "output_type": "display_data"
    }
   ],
   "source": [
    "plt.plot(range(epochs), losses)\n",
    "plt.ylabel(\"loss/error\")\n",
    "plt.xlabel(\"Epochs\")"
   ]
  },
  {
   "cell_type": "code",
   "execution_count": 21,
   "id": "4dc7f54e",
   "metadata": {},
   "outputs": [],
   "source": [
    "# validate model on test data\n",
    "with torch.no_grad(): # no back propogation\n",
    "    y_eval = model.forward(X_test)\n",
    "    loss = criterion(y_eval, y_test) # find loss"
   ]
  },
  {
   "cell_type": "code",
   "execution_count": 22,
   "id": "09360bda",
   "metadata": {},
   "outputs": [
    {
     "data": {
      "text/plain": [
       "tensor(0.0600)"
      ]
     },
     "execution_count": 22,
     "metadata": {},
     "output_type": "execute_result"
    }
   ],
   "source": [
    "loss"
   ]
  },
  {
   "cell_type": "code",
   "execution_count": 26,
   "id": "a4246c08",
   "metadata": {},
   "outputs": [
    {
     "name": "stdout",
     "output_type": "stream",
     "text": [
      "1.) tensor([-10.2344,   1.0197,   8.8700]) \t 2 \t 2\n",
      "2.) tensor([-3.0270,  3.4145, -2.8327]) \t 1 \t 1\n",
      "3.) tensor([-3.8715,  3.8136, -2.4209]) \t 1 \t 1\n",
      "4.) tensor([  7.8503,   2.2609, -16.6844]) \t 0 \t 0\n",
      "5.) tensor([-7.2879,  2.4501,  3.5025]) \t 2 \t 2\n",
      "6.) tensor([-6.4982,  2.6227,  2.4580]) \t 1 \t 1\n",
      "7.) tensor([-11.0583,   1.4984,   8.9596]) \t 2 \t 2\n",
      "8.) tensor([-2.4863,  3.3808, -3.5645]) \t 1 \t 1\n",
      "9.) tensor([-6.6598,  2.5106,  2.7713]) \t 2 \t 2\n",
      "10.) tensor([-9.9037,  1.1217,  8.3512]) \t 2 \t 2\n",
      "11.) tensor([-1.2437,  2.9291, -4.4613]) \t 1 \t 1\n",
      "12.) tensor([-4.8274,  3.8826, -1.3191]) \t 1 \t 1\n",
      "13.) tensor([-11.6118,   1.0118,  10.2886]) \t 2 \t 2\n",
      "14.) tensor([-8.6010,  1.3130,  6.7194]) \t 2 \t 2\n",
      "15.) tensor([-10.1128,   1.2139,   8.4065]) \t 2 \t 2\n",
      "16.) tensor([-7.6776,  1.8290,  4.9703]) \t 2 \t 2\n",
      "17.) tensor([-3.0913,  3.3865, -2.6793]) \t 1 \t 1\n",
      "18.) tensor([-8.0601,  2.5198,  4.2479]) \t 2 \t 2\n",
      "19.) tensor([  7.0029,   2.1692, -15.1473]) \t 0 \t 0\n",
      "20.) tensor([  9.0682,   2.4032, -18.9979]) \t 0 \t 0\n",
      "21.) tensor([  7.8054,   2.4683, -16.9814]) \t 0 \t 0\n",
      "22.) tensor([  9.7294,   2.4900, -20.2670]) \t 0 \t 0\n",
      "23.) tensor([-7.2665,  1.3508,  5.2846]) \t 2 \t 2\n",
      "24.) tensor([-3.0709,  3.6829, -3.3392]) \t 1 \t 1\n",
      "25.) tensor([-10.7822,   1.2716,   8.9986]) \t 2 \t 2\n",
      "26.) tensor([  8.6299,   2.3501, -18.1628]) \t 0 \t 0\n",
      "27.) tensor([  8.3656,   2.2979, -17.6291]) \t 0 \t 0\n",
      "28.) tensor([-2.4756,  3.0192, -2.8133]) \t 1 \t 1\n",
      "29.) tensor([-1.3013,  2.9633, -4.4481]) \t 1 \t 1\n",
      "30.) tensor([  9.4620,   2.2780, -19.5170]) \t 0 \t 0\n",
      "Correct: 30\n"
     ]
    }
   ],
   "source": [
    "correct = 0\n",
    "with torch.no_grad():\n",
    "    for i, data in enumerate(X_test):\n",
    "        y_val = model.forward(data)\n",
    "\n",
    "        print(f\"{i+1}.) {str(y_val)} \\t {y_test[i]} \\t {y_val.argmax().item()}\")\n",
    "\n",
    "        # is it correct\n",
    "        if y_val.argmax().item() == y_test[i]:\n",
    "            correct += 1\n",
    "print(f\"Correct: {correct}\")"
   ]
  },
  {
   "cell_type": "code",
   "execution_count": 27,
   "id": "08128b6c",
   "metadata": {},
   "outputs": [],
   "source": [
    "# New data\n",
    "new_iris = torch.tensor([4.7, 3.2, 1.3, 0.2])"
   ]
  },
  {
   "cell_type": "code",
   "execution_count": 28,
   "id": "c8c1f0b4",
   "metadata": {},
   "outputs": [
    {
     "name": "stdout",
     "output_type": "stream",
     "text": [
      "tensor([  8.5377,   2.2322, -17.8420])\n"
     ]
    }
   ],
   "source": [
    "with torch.no_grad():\n",
    "    print(model(new_iris))"
   ]
  },
  {
   "cell_type": "code",
   "execution_count": 30,
   "id": "6e5f57f6",
   "metadata": {},
   "outputs": [],
   "source": [
    "# Save Model\n",
    "torch.save(model.state_dict(), 'Iris-NN.pt')"
   ]
  },
  {
   "cell_type": "code",
   "execution_count": 31,
   "id": "a710a723",
   "metadata": {},
   "outputs": [
    {
     "data": {
      "text/plain": [
       "<All keys matched successfully>"
      ]
     },
     "execution_count": 31,
     "metadata": {},
     "output_type": "execute_result"
    }
   ],
   "source": [
    "# Load Model\n",
    "new_model = Model()\n",
    "new_model.load_state_dict(torch.load('Iris-NN.pt'))"
   ]
  },
  {
   "cell_type": "code",
   "execution_count": 32,
   "id": "ee731871",
   "metadata": {},
   "outputs": [
    {
     "data": {
      "text/plain": [
       "Model(\n",
       "  (fc1): Linear(in_features=4, out_features=8, bias=True)\n",
       "  (fc2): Linear(in_features=8, out_features=8, bias=True)\n",
       "  (out): Linear(in_features=8, out_features=3, bias=True)\n",
       ")"
      ]
     },
     "execution_count": 32,
     "metadata": {},
     "output_type": "execute_result"
    }
   ],
   "source": [
    "# Check the load\n",
    "new_model.eval()"
   ]
  }
 ],
 "metadata": {
  "kernelspec": {
   "display_name": "venv",
   "language": "python",
   "name": "python3"
  },
  "language_info": {
   "codemirror_mode": {
    "name": "ipython",
    "version": 3
   },
   "file_extension": ".py",
   "mimetype": "text/x-python",
   "name": "python",
   "nbconvert_exporter": "python",
   "pygments_lexer": "ipython3",
   "version": "3.12.7"
  }
 },
 "nbformat": 4,
 "nbformat_minor": 5
}
